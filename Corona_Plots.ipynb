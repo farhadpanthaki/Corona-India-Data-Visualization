{
 "cells": [
  {
   "cell_type": "code",
   "execution_count": 7,
   "metadata": {},
   "outputs": [
    {
     "data": {
      "image/png": "[encoded data removed]",
      "text/plain": [
       "Plot with title \"Proportion of positive samples daily\""
      ]
     },
     "metadata": {
      "image/png": {
       "height": 420,
       "width": 420
      }
     },
     "output_type": "display_data"
    }
   ],
   "source": [
    "library('xlsx')\n",
    "#Function Definition of average of running_means\n",
    "average_of_running_means_till<-function(data,row,col)\n",
    "{\n",
    "#data should be a data.frame\n",
    "\tif(row!=1&&row>0&&row%%1==0 ){\n",
    "\trunning_mean<-vector(length=row)\n",
    "\tfor(k in 1:row){\n",
    "\t\trunning_mean[k] <- mean(as.numeric(data[[col]][1:row]),na.rm=TRUE)\n",
    "\t\t\t}\n",
    "\n",
    "return(mean(running_mean))\n",
    "\n",
    "\n",
    "}\n",
    "if(row==1){\n",
    "return(as.numeric(0))}\n",
    "\n",
    "}\n",
    "\n",
    "\n",
    "PMC_raw_data<-read.xlsx('Data.xlsx',sheetName =  'Data from daily press release',startRow = 1,endRow = 93,stringsAsFactors=FALSE) \n",
    "\n",
    "#Idea 1: Plot each column as a timeseries\n",
    "par(mfrow=c(3,3))\n",
    "\n",
    "for( i in 2:ncol(PMC_raw_data)){\n",
    "\n",
    "#number of rows = nrow(PMC_raw_data) so the dates correspond to 1:nrow(PMC_raw_data) respectively\n",
    "if((any(is.na(PMC_raw_data[[i]])) == FALSE)&all(is.numeric(PMC_raw_data[[i]]))==TRUE){\n",
    "\n",
    "plot.new()\n",
    "\n",
    "plot.window(xlim = c(0,nrow(PMC_raw_data)-1),ylim = c( min( PMC_raw_data[[i]]),max( PMC_raw_data[[i]])),asp = log((nrow(PMC_raw_data)-1))/(max( PMC_raw_data[[i]]) - min( PMC_raw_data[[i]])) * 10)\n",
    "title(main = paste0(colnames(PMC_raw_data)[i]),xlab = paste(nrow(PMC_raw_data),\"Days\"))\n",
    "#did some trial and error and this gives a good representation of the data\n",
    "\n",
    "axis(1,c(0,nrow(PMC_raw_data)-1),labels=c(PMC_raw_data[[1]][1],PMC_raw_data[[1]][length(PMC_raw_data[[1]])]))\n",
    "\n",
    "axis(2,c( min( PMC_raw_data[[i]]),max( PMC_raw_data[[i]])))\n",
    "\n",
    "for (j in 1:nrow(PMC_raw_data))\n",
    "{\n",
    "points(j-1,PMC_raw_data[[j,i]],pch = 19,col = colors()[1+15*i])\n",
    "}\n",
    "}\n",
    "#Ahead of here is to do with dataformatting of the columns that do not have numeric arguments The average of the running mean seems to be a decent estimate for that value.First for \"-\"\n",
    "\n",
    "#for(j in c(which(PMC_raw_data[[i]]==\"_\"),which(PMC_raw_data[[i]]==\"-\"))){#The na condition , which(is.na(PMC_raw_data[[i]])==T) has been removed due the fact that the #nas are in the columns which have no meaning for average values\n",
    "#\tPMC_raw_data[[j,i]] <- average_of_running_means_till(PMC_raw_data,j,i)\n",
    "\n",
    "\n",
    "#}\n",
    "\n",
    "\n",
    "}\n",
    "\n",
    "#,main=print(paste0(colnames(PMC_raw_data)[i]))\n",
    "\n",
    "\n",
    "\n",
    "\n",
    "\n",
    "\n",
    "#Assuming that only 20% of the patients are serious need ICU care + vents so 20% of the recovered patients can be assumed to be the ones that were in critical care\n",
    "\n",
    "#number of critical patients on date is sum of critical patients on days till date - 20% of recovred number till date\n",
    "\n",
    "#number of deaths till date is sum of deaths on days till date\n",
    "\n",
    "#The ratio of deaths till date / critcal patients on date gives a measure of how the medical infrastructure is dealing with critical cases\n",
    "#\n",
    "plot.new()\n",
    "plot.window(xlim = c(0,nrow(PMC_raw_data)-1),ylim = c( 0,max( PMC_raw_data[[3]]/PMC_raw_data[[2]])),asp = log((nrow(PMC_raw_data)-1))/(max( PMC_raw_data[[3]]/PMC_raw_data[[2]]) - min( PMC_raw_data[[3]]/PMC_raw_data[[2]])) * 10)\n",
    "axis(1,c(0,nrow(PMC_raw_data)-1),labels=c(PMC_raw_data[[1]][1],PMC_raw_data[[1]][length(PMC_raw_data[[1]])]))\n",
    "axis(2,c( 0,max( PMC_raw_data[[3]]/PMC_raw_data[[2]])))\n",
    " for (j in 1:nrow(PMC_raw_data))\n",
    " {\n",
    " points(j-1,PMC_raw_data[[j,3]]/PMC_raw_data[[j,2]])}\n",
    "title(main = paste0(\"Proportion of positive samples daily\"),xlab = paste(\"Time\"))\n"
   ]
  },
  {
   "cell_type": "code",
   "execution_count": null,
   "metadata": {},
   "outputs": [],
   "source": []
  }
 ],
 "metadata": {
  "kernelspec": {
   "display_name": "R",
   "language": "R",
   "name": "ir"
  },
  "language_info": {
   "codemirror_mode": "r",
   "file_extension": ".r",
   "mimetype": "text/x-r-source",
   "name": "R",
   "pygments_lexer": "r",
   "version": "3.6.1"
  }
 },
 "nbformat": 4,
 "nbformat_minor": 4
}
